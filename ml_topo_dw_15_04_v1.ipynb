{
 "cells": [
  {
   "cell_type": "markdown",
   "metadata": {},
   "source": [
    "Рассмотрим уравнение \n",
    "\n",
    "\\begin{equation*}\n",
    "i\\frac{\\partial a}{\\partial {t}} = i\\frac{\\partial a}{\\partial {x}} - \\dfrac{g}{4} |a|^2 a - i \\dfrac{g^2}{32 M_0^2}  {|a|^2 \\dfrac{\\partial |a|^2} {\\partial x} a} - \\eta \\dfrac{\\partial^2 a} {\\partial x^2} + M_0^2 \\eta a \n",
    " \\:.\n",
    "\\end{equation*} \n",
    "\n",
    "Построим численное решение с применением метода split-step."
   ]
  },
  {
   "cell_type": "code",
   "execution_count": 2,
   "metadata": {
    "tags": []
   },
   "outputs": [],
   "source": [
    "import numpy as np\n",
    "import matplotlib.pyplot as plt\n",
    "import math\n",
    "import scipy\n",
    "from scipy.fft import fft, ifft"
   ]
  },
  {
   "cell_type": "markdown",
   "metadata": {},
   "source": [
    "Параметры ($M, g, \\eta$ можно менять), но пока зафиксируем: "
   ]
  },
  {
   "cell_type": "code",
   "execution_count": 3,
   "metadata": {
    "tags": []
   },
   "outputs": [],
   "source": [
    "M = 1 \n",
    "g = 1\n",
    "eta = 0.01*0\n",
    "kappa=1\n",
    "q = 1"
   ]
  },
  {
   "cell_type": "markdown",
   "metadata": {},
   "source": [
    "Функции, которые используются для численного интегрирования на линейном и нелинейном шагах. https://numpy.org/doc/stable/reference/routines.fft.html -- про Фурье в Питоне ($a_k \\propto e^{-ikx}$)"
   ]
  },
  {
   "cell_type": "code",
   "execution_count": 4,
   "metadata": {
    "tags": []
   },
   "outputs": [],
   "source": [
    "def LinearStep(dt, psi, kx, eta, kappa, M):\n",
    "    psiNew = ifft(np.exp( ( - 1j * dt )* (  - kappa* kx + eta* kx**2 + M**2*eta) )* fft( psi ) )\n",
    "    return psiNew\n",
    "\n",
    "def NonlinearStep(dt, psi, kx, M, g, q):\n",
    "    rho = abs(psi) ** 2\n",
    "    drho_dx = q*ifft( 1j * kx * fft(rho))\n",
    "    psiNew = np.exp( ( 1j * dt )* ( g / 4 )* rho )* psi\n",
    "    psiNew = np.exp( ( - dt )* ( g**2 / ( 32 * M**2 ) )* rho* drho_dx )* psiNew\n",
    "    return psiNew"
   ]
  },
  {
   "attachments": {},
   "cell_type": "markdown",
   "metadata": {},
   "source": [
    "Можно менять шаг"
   ]
  },
  {
   "cell_type": "code",
   "execution_count": 5,
   "metadata": {},
   "outputs": [
    {
     "data": {
      "text/plain": [
       "0.0012500000000000002"
      ]
     },
     "execution_count": 5,
     "metadata": {},
     "output_type": "execute_result"
    }
   ],
   "source": [
    "(0.05**2)/2"
   ]
  },
  {
   "cell_type": "code",
   "execution_count": 6,
   "metadata": {
    "tags": []
   },
   "outputs": [],
   "source": [
    "Nt = 10000\n",
    "t = np.zeros(Nt)\n",
    "dx = 0.1/2\n",
    "\n",
    "dt = (dx**2)/2\n",
    "Nx = 2**12\n",
    "Lx = dx*Nx\n",
    "x = np.zeros(Nx)\n",
    "kx = np.zeros(Nx)\n",
    "gridx=np.linspace(0, Nx-1, Nx)\n",
    "gridt=np.linspace(0, Nt-1, Nt)\n",
    "t=gridt*dt\n",
    "for ii in gridx:\n",
    "    x[round(ii)] = ( round(ii) + 1 - (1 + (Nx / 2))) * dx\n",
    "for ii in gridx:\n",
    "    kx[round(ii)] = ( round(ii) + 1 - ( 1 + Nx / 2 ) ) * ( 2 * math.pi / Lx );\n",
    "kx = scipy.fft.fftshift (kx);"
   ]
  },
  {
   "cell_type": "markdown",
   "metadata": {},
   "source": [
    "Начальное распределение поля"
   ]
  },
  {
   "cell_type": "code",
   "execution_count": 7,
   "metadata": {},
   "outputs": [],
   "source": [
    "amplitude = 0.6\n",
    "width = 5\n",
    "xStart = 0\n",
    "exponent=-(((x - xStart) / width) ** 2)\n",
    "psi = amplitude * np.exp(exponent)"
   ]
  },
  {
   "cell_type": "markdown",
   "metadata": {},
   "source": [
    "Интегрируем уравнение"
   ]
  },
  {
   "cell_type": "code",
   "execution_count": 8,
   "metadata": {
    "tags": []
   },
   "outputs": [],
   "source": [
    "Psi_numerical_re = np.zeros((len(t)+1, len(x)))\n",
    "Psi_numerical_im = np.zeros((len(t)+1, len(x)))\n",
    "Psi_numerical = np.zeros((len(t)+1, len(x)))\n",
    "\n",
    "Psi_numerical_re[0, :] = psi.real \n",
    "Psi_numerical_im[0, :] = psi.imag \n",
    "for it in gridt: \n",
    "    itc=round(it)+1\n",
    "    psi = LinearStep(0.5 * dt, psi, kx, eta, kappa, M)\n",
    "    psi = NonlinearStep(1.0 * dt, psi, kx, M, g, q)\n",
    "    psi = LinearStep(0.5 * dt, psi, kx, eta, kappa, M)\n",
    "    Psi_numerical_re[itc, :] = psi.real \n",
    "    Psi_numerical_im[itc, :] = psi.imag \n",
    "Psi_numerical =  Psi_numerical_re + 1j*Psi_numerical_im\n",
    "a = np.transpose(Psi_numerical)"
   ]
  },
  {
   "cell_type": "markdown",
   "metadata": {},
   "source": [
    "С применением численного дифференцирования проверим, что выполняется\n",
    "\n",
    "\\begin{equation*}\n",
    "i\\frac{\\partial a}{\\partial {t}} = i\\frac{\\partial a}{\\partial {x}} - \\dfrac{g}{4} |a|^2 a - i \\dfrac{g^2}{32 M_0^2}  {|a|^2 \\dfrac{\\partial |a|^2} {\\partial x} a} - \\eta \\dfrac{\\partial^2 a} {\\partial x^2} + M_0^2 \\eta a \n",
    " \\:.\n",
    "\\end{equation*}.\n",
    "\n",
    "Трешхолд меньше nd не имеет смысл рассматривать?"
   ]
  },
  {
   "cell_type": "code",
   "execution_count": 9,
   "metadata": {},
   "outputs": [],
   "source": [
    "# dt_a = np.gradient(a, axis=1)/dt;\n",
    "# dx_a = np.gradient(a, axis=0)/dx;\n",
    "# dx_abs_a_2 = np.gradient(abs(a)**2, axis=0)/dx; \n",
    "# dxx_a =  np.gradient(dx_a, axis=0)/dx;\n",
    "# # dt_a = ps.FiniteDifference(axis=1)._differentiate(a, t=dt)\n",
    "# # dx_a = ps.FiniteDifference(axis=0)._differentiate(a, t=dx)\n",
    "# # dx_abs_a_2 = ps.FiniteDifference(axis=0)._differentiate(abs(a)**2, t=dx)\n",
    "# # dxx_a = ps.FiniteDifference(axis=0)._differentiate(dx_a, t=dx)\n",
    "# nd = abs(-1j*dt_a+1j*kappa*dx_a-g/4*abs(a)**2*a-1j*g**2/(32*(M**2))*(abs(a)**2)*a*dx_abs_a_2-eta*dxx_a+M**2*eta*a)\n",
    "# print(np.amax(nd))\n",
    "# # plt.subplot(1, 3, 1)\n",
    "# # plt.pcolormesh(np.log(abs(num_difference)))\n",
    "# # plt.xlabel('t', fontsize=16)\n",
    "# # plt.ylabel('x', fontsize=16)\n",
    "# # plt.title(r'$|a(x, t)|^2$', fontsize=16)"
   ]
  },
  {
   "cell_type": "markdown",
   "metadata": {},
   "source": [
    "Выделяем действительную и мнимую часть, модуль и фазу."
   ]
  },
  {
   "cell_type": "code",
   "execution_count": 10,
   "metadata": {},
   "outputs": [],
   "source": [
    "a_r = a.real\n",
    "a_i = a.imag\n",
    "rho = abs(a)\n",
    "phi_0 = np.angle(a)\n",
    "phi = 0*np.angle(a)"
   ]
  },
  {
   "cell_type": "markdown",
   "metadata": {},
   "source": [
    "Зануляем фазу там, где почти нет поля"
   ]
  },
  {
   "cell_type": "code",
   "execution_count": 11,
   "metadata": {},
   "outputs": [],
   "source": [
    "for ii in gridx:\n",
    "    for it in gridt: \n",
    "        if rho [round(ii), round(it)] > 0.0001:\n",
    "            phi [round(ii), round(it)] =  phi_0 [round(ii), round(it)] "
   ]
  },
  {
   "cell_type": "markdown",
   "metadata": {},
   "source": [
    "Стоим всякие штуки"
   ]
  },
  {
   "cell_type": "code",
   "execution_count": 12,
   "metadata": {},
   "outputs": [
    {
     "data": {
      "text/plain": [
       "Text(0.5, 1.0, '$Field~at~t=end$')"
      ]
     },
     "execution_count": 12,
     "metadata": {},
     "output_type": "execute_result"
    },
    {
     "ename": "",
     "evalue": "",
     "output_type": "error",
     "traceback": [
      "\u001b[1;31mCanceled future for execute_request message before replies were done"
     ]
    },
    {
     "ename": "",
     "evalue": "",
     "output_type": "error",
     "traceback": [
      "\u001b[1;31mПри выполнении кода в текущей ячейке или предыдущей ячейке ядро аварийно завершило работу. Проверьте код в ячейках, чтобы определить возможную причину сбоя. Щелкните <a href=\"https://aka.ms/vscodeJupyterKernelCrash\">здесь</a> для получения дополнительных сведений. Подробнее см. в <a href='command:jupyter.viewOutput'>журнале Jupyter</a>."
     ]
    }
   ],
   "source": [
    "# plt.subplot(1, 2, 1)\n",
    "# plt.pcolormesh(abs(a)**2)\n",
    "# plt.xlabel('t', fontsize=16)\n",
    "# plt.ylabel('x', fontsize=16)\n",
    "# plt.title(r'$|a(x, t)|^2$', fontsize=16)\n",
    "# plt.subplot(1, 2, 2)\n",
    "# plt.plot(a_r[:, Nt-1], label = 're')\n",
    "# plt.plot(a_i[:, Nt-1], label = 'im')\n",
    "# plt.plot(rho[:, Nt-1], label = 'abs')\n",
    "# plt.plot(phi_0[:, Nt-1], label = 'phi0')\n",
    "# plt.plot(phi[:, Nt-1], label = 'phi')\n",
    "# plt.legend()\n",
    "# plt.title(r'$Field~at~t=end$', fontsize=16)"
   ]
  },
  {
   "cell_type": "markdown",
   "metadata": {},
   "source": [
    "Далее применяем методы pysindy\n",
    "\n",
    "Grid Search?"
   ]
  },
  {
   "cell_type": "code",
   "execution_count": null,
   "metadata": {},
   "outputs": [],
   "source": [
    "# !pip install pysindy\n",
    "import pysindy as ps"
   ]
  },
  {
   "cell_type": "code",
   "execution_count": null,
   "metadata": {},
   "outputs": [],
   "source": [
    "# эта ячейка пригодится, когда будем подгружать реальные данные \n",
    "# x_matlab = np.loadtxt('x.dat')\n",
    "# t_matlab = np.loadtxt('t.dat')\n",
    "# dt_matlab=abs(t[1]-t[2]);\n",
    "# dx_matlab=abs(x[1]-x[2]);\n",
    "# re_a = np.loadtxt('Solutionre_mNLSeq.dat')\n",
    "# im_a = np.loadtxt('Solutionim_mNLSeq.dat')\n",
    "# a_transpose=re_a+1j*im_a\n",
    "# a = np.transpose(a_transpose)"
   ]
  },
  {
   "attachments": {},
   "cell_type": "markdown",
   "metadata": {
    "tags": []
   },
   "source": [
    "Мы можем восстанавливать это уравнение \n",
    "$$\n",
    "\\begin{aligned}\n",
    "& {\\color{red}{\\quad \\frac{\\partial a_R}{\\partial t}=\\frac{\\partial a_R}{\\partial x}-\\frac{g}{4}\\left[a_I^3+a_R^2 a_I\\right]}}-\\frac{g^2}{16 M_0^2}\\left[a_R^4 \\frac{\\partial a_R}{\\partial x}+a_{ I}^2 a_R^2 \\frac{\\partial a_R}{\\partial x}+\\right. \\\\\n",
    "& \\left.+a_R^3 a_I \\frac{\\partial a_I}{\\partial x}+a_I^3 a_R \\frac{\\partial a_I}{\\partial x}\\right]-\\eta \\frac{\\partial^2 a_I}{\\partial x^2}+M_0^2 \\eta a_I\n",
    "\\end{aligned}\n",
    "$$\n",
    "$$\n",
    "\\begin{aligned}\n",
    "&{\\color{red}{ \\frac{\\partial a_I}{\\partial t}=\\frac{\\partial a_I}{\\partial x}+\\frac{g}{4} a_R^3+\\frac{g}{4} a_I^2 a_R}}-\\frac{g^2}{16 M_0^2}\\left[a_I^3 a_R \\frac{\\partial a_R}{\\partial x}+a_R^3 a_I \\frac{\\partial a_R}{\\partial x}+\\right. \\\\\n",
    "& \\left.+a_I^4 \\frac{\\partial a_I}{\\partial x}+a_R^2 a_I^2 \\frac{\\partial a_I}{\\partial x}\\right]+\\eta \\frac{\\partial^2 a_R}{\\partial x^2}-M_0^2 \\eta a_R\n",
    "\\end{aligned}\n",
    "$$\n",
    "\n",
    "или это \n",
    "\n",
    "\\begin{aligned}\n",
    "& a=\\rho e^{i \\varphi} \\\\\n",
    "& \\text { Re: } \\frac{\\partial \\varphi}{\\partial t}= \\frac{\\partial \\varphi}{\\partial x}+\\frac{g}{4} \\rho^2+\\eta \\frac{\\partial^2 \\rho}{\\partial x^2}/\\rho-\\eta\\left(\\frac{\\partial \\varphi}{\\partial x}\\right)^2 -M_0^2 \\eta  \\\\\n",
    "& \\text { Im: } \\frac{\\partial \\rho}{\\partial t}=\\frac{\\partial \\rho}{\\partial x}-\\frac{g^2}{16 M_0^2} \\rho^4 \\frac{\\partial \\rho}{\\partial x}- 2 \\eta  \\frac{\\partial \\varphi }{\\partial x} \\frac{\\partial \\rho}{\\partial x}-\\eta \\frac{\\partial^2 \\varphi}{\\partial x^2} \\rho \\\\\n",
    "&\n",
    "\\end{aligned}\n",
    "\n",
    "Но уравнение для модуля и фазы будет работать только если $\\eta=0$, потому что иначе там деление на функцию"
   ]
  },
  {
   "cell_type": "code",
   "execution_count": null,
   "metadata": {
    "tags": []
   },
   "outputs": [],
   "source": [
    "#для первого уравнения\n",
    "# u = np.zeros((len(x), len(t)+1, 2))\n",
    "# u[:, :,  0] = a_r\n",
    "# u[:, :,  1] = a_i\n",
    "#для второго уравнения\n",
    "u = np.zeros((len(x), len(t)+1, 2))\n",
    "u[:, :,  0] = rho\n",
    "u[:, :,  1] = phi"
   ]
  },
  {
   "cell_type": "code",
   "execution_count": null,
   "metadata": {
    "tags": []
   },
   "outputs": [],
   "source": [
    "#https://github.com/dynamicslab/pysindy/blob/master/examples/12_weakform_SINDy_examples.ipynb\n",
    "# тут нужно обновить библиотеку функций\n",
    "library_functions = [\n",
    "    lambda x: x,\n",
    "\n",
    "    lambda x: x * x,\n",
    "    lambda x, y: x * y,\n",
    "\n",
    "    lambda x: x * x * x,\n",
    "    lambda x, y: x * x * y,\n",
    "    lambda x, y: x * y * y,\n",
    "    lambda y: y * y * y,\n",
    "\n",
    "    lambda x: x * x * x * x,\n",
    "    lambda x, y: x * x * x * y,\n",
    "    lambda x, y: x * x * y * y,\n",
    "    lambda x, y: x * y * y * y,\n",
    "    lambda y: y * y * y * y,\n",
    "\n",
    "]\n",
    "library_function_names = [\n",
    "    lambda x: 'x',\n",
    "\n",
    "    lambda x: 'x * x',\n",
    "    lambda x, y: 'x * y',\n",
    "\n",
    "    lambda x: 'x * x * x',\n",
    "    lambda x, y: 'x * x * y',\n",
    "    lambda x, y: 'x * y * y',\n",
    "    lambda y: 'y * y * y',\n",
    "\n",
    "    lambda x: 'x * x * x * x',\n",
    "    lambda x, y: 'x * x * x * y',\n",
    "    lambda x, y: 'x * x * y * y',\n",
    "    lambda x, y: 'x * y * y * y',\n",
    "    lambda y: 'y * y * y * y',\n",
    "]"
   ]
  },
  {
   "cell_type": "code",
   "execution_count": null,
   "metadata": {
    "tags": []
   },
   "outputs": [],
   "source": [
    "np.random.seed(100)\n",
    "X, T = np.meshgrid(x, t, indexing='ij')\n",
    "XT = np.transpose([X, T], [1, 2, 0])\n",
    "pde_lib = ps.PDELibrary(library_functions=library_functions, \n",
    "                        function_names=library_function_names, \n",
    "                        derivative_order=2, spatial_grid=x,\n",
    "                        include_bias=False,\n",
    "                        is_uniform=True)\n",
    "\n",
    "\n",
    "# Fit and predict with the non-weak model\n",
    "# opt = ps.SR3(threshold=0.1, thresholder='l0', \n",
    "#              tol=1e-10, normalize_columns=True, \n",
    "#              max_iter=1000)"
   ]
  },
  {
   "cell_type": "code",
   "execution_count": null,
   "metadata": {
    "tags": []
   },
   "outputs": [],
   "source": [
    "# Fit the equation, weak form style!\n",
    "optimizer = ps.STLSQ(threshold=0.001, alpha=1e-5, normalize_columns=True)\n",
    "model = ps.SINDy(feature_library=pde_lib, optimizer=optimizer)\n",
    "model.fit(u, quiet=True)\n",
    "model.print()"
   ]
  },
  {
   "cell_type": "markdown",
   "metadata": {},
   "source": [
    "\\begin{aligned}\n",
    "& a=\\rho e^{i \\varphi} \\\\\n",
    "& \\text { Re: } \\frac{\\partial \\varphi}{\\partial t}= \\frac{\\partial \\varphi}{\\partial x}+\\frac{g}{4} \\rho^2+\\eta \\frac{\\partial^2 \\rho}{\\partial x^2}/\\rho-\\eta\\left(\\frac{\\partial \\varphi}{\\partial x}\\right)^2 -M_0^2 \\eta  \\\\\n",
    "& \\text { Im: } \\frac{\\partial \\rho}{\\partial t}=\\frac{\\partial \\rho}{\\partial x}-\\frac{g^2}{16 M_0^2} \\rho^4 \\frac{\\partial \\rho}{\\partial x}- 2 \\eta  \\frac{\\partial \\varphi }{\\partial \\rho} \\frac{\\partial x}{\\partial x}-\\eta \\frac{\\partial^2 \\varphi}{\\partial x^2} \\rho \\\\\n",
    "&\n",
    "\\end{aligned}"
   ]
  },
  {
   "cell_type": "code",
   "execution_count": null,
   "metadata": {},
   "outputs": [],
   "source": []
  }
 ],
 "metadata": {
  "kernelspec": {
   "display_name": "Python 3 (ipykernel)",
   "language": "python",
   "name": "python3"
  },
  "language_info": {
   "codemirror_mode": {
    "name": "ipython",
    "version": 3
   },
   "file_extension": ".py",
   "mimetype": "text/x-python",
   "name": "python",
   "nbconvert_exporter": "python",
   "pygments_lexer": "ipython3",
   "version": "3.10.4"
  }
 },
 "nbformat": 4,
 "nbformat_minor": 4
}
